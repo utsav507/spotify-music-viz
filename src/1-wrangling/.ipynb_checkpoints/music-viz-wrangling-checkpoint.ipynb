{
 "cells": [
  {
   "cell_type": "code",
   "execution_count": null,
   "metadata": {},
   "outputs": [],
   "source": [
    "# Importing all libraries necessary to run this notebook\n",
    "\n",
    "import pandas as pd\n",
    "import numpy as np\n",
    "import datetime\n",
    "from math import pi, ceil\n",
    "import matplotlib.pyplot as plt\n",
    "import seaborn as sns\n",
    "from sklearn.preprocessing import StandardScaler\n",
    "from sklearn.cluster import KMeans\n",
    "from sklearn.decomposition import PCA\n",
    "from sklearn.manifold import TSNE\n",
    "import spotipy\n",
    "import spotipy.util as util\n",
    "from spotipy.oauth2 import SpotifyClientCredentials\n",
    "#pp = pprint.PrettyPrinter()\n",
    "\n",
    "# Obtained cid, secret_id and username from Spotify's Developer account\n",
    "cid = '5fd46161069742bda7137da316ab55bb'\n",
    "secret = '92176a20d05b48709224c0bbfa889805'\n",
    "username = \"utsav507\"\n",
    "uri = 'http://localhost:8888/notebooks/music-viz.ipynb'\n",
    "\n",
    "# SpotiPy is Spotify's library\n",
    "client_credentials_manager = SpotifyClientCredentials(client_id=cid, client_secret=secret) \n",
    "sp = spotipy.Spotify(client_credentials_manager=client_credentials_manager)\n",
    "\n",
    "# Get read access to your library\n",
    "scope = 'user-library-read'\n",
    "token = util.prompt_for_user_token(username, scope, cid, secret, uri)\n",
    "if token:\n",
    "    sp = spotipy.Spotify(auth=token)\n",
    "else:\n",
    "    print(\"Can't get token for \", username)"
   ]
  },
  {
   "cell_type": "code",
   "execution_count": null,
   "metadata": {},
   "outputs": [],
   "source": [
    "print(token)"
   ]
  },
  {
   "cell_type": "code",
   "execution_count": null,
   "metadata": {},
   "outputs": [],
   "source": [
    "# Declaring empty dataframe, empty string, and empty lists\n",
    "df_saved_tracks = pd.DataFrame()\n",
    "track_list = ''\n",
    "added_ts_list = []\n",
    "artist_list = []\n",
    "title_list = []\n",
    "\n",
    "# Since SpotiPy only returns 100 records at a time, more_songs variable enables a while loop to fetch all tracks \n",
    "# user's current saved tracks. The offset_index stores the index of the track/record.\n",
    "more_songs = True\n",
    "offset_index = 0\n",
    "\n",
    "# Data wrangling from different API calls and compiling into one dataframe\n",
    "while more_songs:\n",
    "    songs = sp.current_user_saved_tracks(offset=offset_index)\n",
    "    #print(songs)\n",
    "    for song in songs['items']:\n",
    "        #print(song)\n",
    "        #join track ids to a string for audio_features function\n",
    "        track_list += song['track']['id'] +','\n",
    "        #get the time when the song was added\n",
    "        added_ts_list.append(song['added_at'])\n",
    "        #get the title of the song\n",
    "        title_list.append(song['track']['name'])\n",
    "        #get all the artists in the song\n",
    "        artists = song['track']['artists']\n",
    "        artists_name = ''\n",
    "        for artist in artists:\n",
    "            artists_name += artist['name']  + ','\n",
    "        artist_list.append(artists_name[:-1])\n",
    "    #get the track features and append into a dataframe\n",
    "    track_features = sp.audio_features(track_list[:-1])\n",
    "    #print(track_features)\n",
    "    df_temp = pd.DataFrame(track_features)\n",
    "    #print(df_temp.head())\n",
    "    df_saved_tracks = df_saved_tracks.append(df_temp)\n",
    "    track_list = ''\n",
    "    if songs['next'] == None:\n",
    "        # no more songs in playlist\n",
    "        more_songs = False\n",
    "    else:\n",
    "        # get the next n songs\n",
    "        offset_index += songs['limit']"
   ]
  },
  {
   "cell_type": "code",
   "execution_count": null,
   "metadata": {},
   "outputs": [],
   "source": [
    "#include timestamp added, title and artists of a song\n",
    "df_saved_tracks['added_at'] = added_ts_list\n",
    "df_saved_tracks['song_title'] = title_list\n",
    "df_saved_tracks['artists'] = artist_list"
   ]
  },
  {
   "cell_type": "code",
   "execution_count": null,
   "metadata": {},
   "outputs": [],
   "source": [
    "#df_saved_tracks.head()\n",
    "#df_saved_tracks.describe()\n",
    "#list(df_saved_tracks)\n",
    "#df_saved_tracks.shape\n",
    "df_saved_tracks.head()"
   ]
  },
  {
   "cell_type": "code",
   "execution_count": null,
   "metadata": {},
   "outputs": [],
   "source": [
    "# Define path to save dataframe\n",
    "datapath = '/Users/utsav/Google Drive/Projects/music-rec/'"
   ]
  },
  {
   "cell_type": "code",
   "execution_count": null,
   "metadata": {},
   "outputs": [],
   "source": [
    "# Write dataframe to .h5 file format\n",
    "df_saved_tracks.to_hdf(datapath + 'all_tracks.h5', key='df', mode='w')"
   ]
  },
  {
   "cell_type": "code",
   "execution_count": null,
   "metadata": {},
   "outputs": [],
   "source": [
    "# Write dataframe to a .csv file format\n",
    "df_saved_tracks.to_csv(datapath + 'all_tracks.csv', sep='\\t', encoding='utf-8')"
   ]
  },
  {
   "cell_type": "code",
   "execution_count": null,
   "metadata": {},
   "outputs": [],
   "source": [
    "# Importing dataframe to perform visualizaions\n",
    "\n",
    "# Define a function to load dataframe, convert added_at to datatime object, and normalize tempo\n",
    "def load_playlist(playlist='all_tracks.h5'):\n",
    "    '''\n",
    "    Takes in the path of the data.\n",
    "    Reads the data, convertes added_at to a datetime object and extract year and month to new column.\n",
    "    Also standardise the tempo to between 0 and 1.\n",
    "    Returns a dataframe.\n",
    "    '''\n",
    "\n",
    "    # Read dataframe\n",
    "    df_playlist = pd.read_hdf(datapath + playlist, key='df')\n",
    "    df_playlist.drop(['analysis_url', 'track_href', 'uri', 'type'], axis=1, inplace=True)\n",
    "    \n",
    "    # Convert to datetime, and extract year and month from added_at\n",
    "    df_playlist['added_at'] = pd.to_datetime(df_playlist['added_at'])\n",
    "    df_playlist['added_year'] = df_playlist['added_at'].apply(lambda x : x.year)\n",
    "    df_playlist['added_month'] = df_playlist['added_at'].apply(lambda x : x.month)\n",
    "    df_playlist['added_week'] = df_playlist['added_at'].apply(lambda x : x.week)\n",
    "    \n",
    "    df_playlist['tempo_01'] = df_playlist['tempo'] / df_playlist['tempo'].max()\n",
    "    \n",
    "    return df_playlist"
   ]
  },
  {
   "cell_type": "code",
   "execution_count": null,
   "metadata": {},
   "outputs": [],
   "source": [
    "df_saved = load_playlist()\n",
    "print(df_saved.shape)"
   ]
  },
  {
   "cell_type": "code",
   "execution_count": null,
   "metadata": {},
   "outputs": [],
   "source": [
    "df_saved.sample(5)"
   ]
  }
 ],
 "metadata": {
  "kernelspec": {
   "display_name": "Python 3",
   "language": "python",
   "name": "python3"
  },
  "language_info": {
   "codemirror_mode": {
    "name": "ipython",
    "version": 3
   },
   "file_extension": ".py",
   "mimetype": "text/x-python",
   "name": "python",
   "nbconvert_exporter": "python",
   "pygments_lexer": "ipython3",
   "version": "3.7.3"
  }
 },
 "nbformat": 4,
 "nbformat_minor": 2
}
