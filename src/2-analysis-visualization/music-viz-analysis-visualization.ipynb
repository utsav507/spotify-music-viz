{
 "cells": [
  {
   "cell_type": "code",
   "execution_count": null,
   "metadata": {},
   "outputs": [],
   "source": [
    "# Visualize audio features over time period (year)\n",
    "\n",
    "# sns.set(style=\"ticks\")\n",
    "plt.figure(figsize=(30,20))\n",
    "grid = sns.FacetGrid(data=df_grp_ym, col=\"added_year\", height=10)\n",
    "\n",
    "# Draw a horizontal line to show the starting point\n",
    "grid.map(plt.axhline, y=0.5, ls=\":\", c=\".5\")\n",
    "\n",
    "# Draw a line plot to show the average value per month\n",
    "grid.map(plt.plot, \"added_month\", \"danceability\", marker=\"x\", color='r', label='danceability')\n",
    "grid.map(plt.plot, \"added_month\", \"energy\", marker=\".\", color='grey', label='energy')\n",
    "grid.map(plt.plot, \"added_month\", \"acousticness\", marker=\"v\", color='b', label='acousticness')\n",
    "grid.map(plt.plot, \"added_month\", \"instrumentalness\", marker=\"^\", color='g', label='instrumentalness')\n",
    "grid.map(plt.plot, \"added_month\", \"speechiness\", marker=\"s\", color='violet', label='speechiness')\n",
    "grid.map(plt.plot, \"added_month\", \"valence\", marker=\"*\", color='y', label='valence')\n",
    "\n",
    "# Adjust the tick positions and labels\n",
    "grid.set(xticks=np.arange(13), yticks=[0, 1], \n",
    "         xlim=(0.5,12.5), ylim=(-0.1,1.1), \n",
    "         ylabel='Value', xlabel='')\n",
    "\n",
    "# Adjust legend\n",
    "plt.legend(loc='lower center', bbox_to_anchor=(-0.3, -0.2), ncol=6, fontsize=16)\n",
    "\n",
    "\n",
    "plt.show()"
   ]
  },
  {
   "cell_type": "code",
   "execution_count": null,
   "metadata": {},
   "outputs": [],
   "source": [
    "# Histogram describing audio features of dataset\n",
    "\n",
    "df_saved[['acousticness', 'danceability', 'instrumentalness', \n",
    "           'energy', 'speechiness','tempo','valence','duration_ms',\n",
    "           'liveness', 'loudness']].hist(figsize=(20,10))\n",
    "plt.show()"
   ]
  },
  {
   "cell_type": "code",
   "execution_count": null,
   "metadata": {},
   "outputs": [],
   "source": [
    "# Clustering similar songs together\n",
    "\n",
    "cluster_features = ['acousticness', 'danceability', 'instrumentalness', \n",
    "           'energy', 'speechiness','tempo','valence','duration_ms',\n",
    "           'liveness', 'loudness']\n",
    "df_cluster = df_saved[cluster_features]"
   ]
  },
  {
   "cell_type": "code",
   "execution_count": null,
   "metadata": {},
   "outputs": [],
   "source": [
    "# Histogram describing audio features of clustered songs in the dataset\n",
    "\n",
    "df_cluster.hist(figsize=(20,10))\n",
    "plt.show()"
   ]
  },
  {
   "cell_type": "code",
   "execution_count": null,
   "metadata": {},
   "outputs": [],
   "source": [
    "# Histogram describing audio features of dataset\n",
    "\n",
    "df_saved[['acousticness', 'danceability', 'instrumentalness', \n",
    "           'energy', 'speechiness','tempo','valence','duration_ms',\n",
    "           'liveness', 'loudness']].hist(figsize=(20,10))\n",
    "plt.show()"
   ]
  },
  {
   "cell_type": "code",
   "execution_count": null,
   "metadata": {},
   "outputs": [],
   "source": [
    "# Clustering similar songs together\n",
    "\n",
    "cluster_features = ['acousticness', 'danceability', 'instrumentalness', \n",
    "           'energy', 'speechiness','tempo','valence','duration_ms',\n",
    "           'liveness', 'loudness']\n",
    "df_cluster = df_saved[cluster_features]"
   ]
  },
  {
   "cell_type": "code",
   "execution_count": null,
   "metadata": {},
   "outputs": [],
   "source": [
    "# Histogram describing audio features of clustered songs in the dataset\n",
    "\n",
    "df_cluster.hist(figsize=(20,10))\n",
    "plt.show()"
   ]
  },
  {
   "cell_type": "code",
   "execution_count": null,
   "metadata": {},
   "outputs": [],
   "source": [
    "X = np.array(df_cluster)\n",
    "scaler = StandardScaler()\n",
    "scaler.fit(X)\n",
    "X = scaler.transform(X)"
   ]
  },
  {
   "cell_type": "code",
   "execution_count": null,
   "metadata": {},
   "outputs": [],
   "source": [
    "ss_dist = []\n",
    "K = range(1, 11)\n",
    "for k in K:\n",
    "    km = KMeans(n_clusters=k, max_iter=10000, init='k-means++', random_state=123)\n",
    "    km = km.fit(X)\n",
    "    ss_dist.append(km.inertia_)"
   ]
  },
  {
   "cell_type": "code",
   "execution_count": null,
   "metadata": {},
   "outputs": [],
   "source": [
    "plt.plot(K, ss_dist, 'bx-')\n",
    "plt.xlabel('k')\n",
    "plt.ylabel('Sum of squared distances')\n",
    "plt.title('Elbow Method For Optimal k')\n",
    "plt.show()"
   ]
  },
  {
   "cell_type": "code",
   "execution_count": null,
   "metadata": {},
   "outputs": [],
   "source": [
    "num_clusters = 9\n",
    "kmeanModel = KMeans(n_clusters=num_clusters, max_iter=10000, init='k-means++', random_state=123).fit(X)"
   ]
  },
  {
   "cell_type": "code",
   "execution_count": null,
   "metadata": {},
   "outputs": [],
   "source": [
    "# Visualization of Cluster using PCA\n",
    "\n",
    "pca = PCA(n_components=3, random_state=123)\n",
    "pca_results = pca.fit_transform(X)"
   ]
  },
  {
   "cell_type": "code",
   "execution_count": null,
   "metadata": {},
   "outputs": [],
   "source": [
    "print(pca.explained_variance_ratio_.sum())\n",
    "pca.explained_variance_ratio_.cumsum()"
   ]
  },
  {
   "cell_type": "code",
   "execution_count": null,
   "metadata": {},
   "outputs": [],
   "source": [
    "df_scree = pd.DataFrame({'Component': ['1','2','3'],'Indiv':pca.explained_variance_ratio_})\n",
    "df_scree['cum_sum'] = df_scree['Indiv'].cumsum()\n",
    "df_scree"
   ]
  },
  {
   "cell_type": "code",
   "execution_count": null,
   "metadata": {},
   "outputs": [],
   "source": [
    "fig, ax = plt.subplots(figsize=(15, 10))\n",
    "plt.bar(range(len(pca.explained_variance_ratio_)), pca.explained_variance_ratio_, \n",
    "        label='Individual', axes=ax, alpha=0.4)\n",
    "plt.plot(range(len(pca.explained_variance_ratio_)), pca.explained_variance_ratio_.cumsum(), \n",
    "         label='Cumulative', color='tomato', axes=ax, marker='o')\n",
    "\n",
    "ax.set_xticks(range(0,3))\n",
    "ax.set_xticklabels(range(1,4), fontsize=12)\n",
    "ax.set_yticklabels(range(0,90,10), fontsize=12)\n",
    "\n",
    "plt.title('Scree Plot of PCA', fontsize=12)\n",
    "plt.ylabel('Explained variance (%)', fontsize=12)\n",
    "plt.xlabel('Principal components', fontsize=12)\n",
    "plt.legend()\n",
    "plt.show()"
   ]
  },
  {
   "cell_type": "code",
   "execution_count": null,
   "metadata": {},
   "outputs": [],
   "source": [
    "df_pca = pd.DataFrame(pca_results)\n",
    "df_pca.columns = ['PC1', 'PC2','PC3']\n",
    "df_pca['label'] = kmeanModel.labels_\n",
    "df_pca.head()"
   ]
  },
  {
   "cell_type": "code",
   "execution_count": null,
   "metadata": {},
   "outputs": [],
   "source": [
    "sns.set_style('white')\n",
    "sns.scatterplot(data=df_pca, x='PC1', y='PC2', hue='label', palette='Set1') # add different markers\n",
    "plt.legend(bbox_to_anchor=(1.05, 1), loc=2, borderaxespad=0.)\n",
    "plt.title('Visualisation of Songs using PCA')\n",
    "plt.show()"
   ]
  },
  {
   "cell_type": "code",
   "execution_count": null,
   "metadata": {},
   "outputs": [],
   "source": [
    "from matplotlib import pyplot as plt\n",
    "from mpl_toolkits.mplot3d import Axes3D\n",
    "\n",
    "fig = plt.figure()\n",
    "ax = Axes3D(fig)\n",
    "\n",
    "ax.scatter(df_pca['PC1'], df_pca['PC2'], df_pca['PC3'],\n",
    "           c=df_pca['label'], cmap='Set1')\n",
    "\n",
    "ax.set_xlabel('PC1')\n",
    "ax.set_ylabel('PC2')\n",
    "ax.set_zlabel('PC3')\n",
    "plt.show()"
   ]
  },
  {
   "cell_type": "code",
   "execution_count": null,
   "metadata": {},
   "outputs": [],
   "source": [
    "# Visualisation of clusters using TSNE\n",
    "\n",
    "tsne = TSNE(n_components=2, perplexity=50, n_iter=5000, random_state=123, learning_rate=190)\n",
    "tsne_results = tsne.fit_transform(X)"
   ]
  },
  {
   "cell_type": "code",
   "execution_count": null,
   "metadata": {},
   "outputs": [],
   "source": [
    "df_tsne = pd.DataFrame(tsne_results)\n",
    "df_tsne.columns = ['D1', 'D2']\n",
    "df_tsne['label'] = kmeanModel.labels_\n",
    "df_tsne.head()"
   ]
  },
  {
   "cell_type": "code",
   "execution_count": null,
   "metadata": {},
   "outputs": [],
   "source": [
    "sns.set_style('white')\n",
    "sns.scatterplot(data=df_tsne, x='D1', y='D2', hue='label', palette='Set1')\n",
    "plt.legend(bbox_to_anchor=(1.05, 1), loc=2)\n",
    "plt.title('Visualisation of Songs using TSNE')\n",
    "plt.show()"
   ]
  },
  {
   "cell_type": "code",
   "execution_count": null,
   "metadata": {},
   "outputs": [],
   "source": [
    "# assign label to recent dataframe\n",
    "df_saved.loc[:,'cluster'] = kmeanModel.labels_\n",
    "df_cluster_size = df_saved.groupby('cluster').size().reset_index(name='Num of songs')\n",
    "sns.barplot(data=df_cluster_size, x='cluster', y='Num of songs', color='seagreen')\n",
    "plt.title('Distribution of clusters')\n",
    "plt.show()"
   ]
  },
  {
   "cell_type": "code",
   "execution_count": null,
   "metadata": {},
   "outputs": [],
   "source": [
    "# Song feature distribution compared to overall distribution\n",
    "\n",
    "# set binning intervals of 0.1\n",
    "bins = np.linspace(0,1,10)\n",
    "\n",
    "# create subplots\n",
    "num_features = len(cluster_features)\n",
    "f, axes = plt.subplots(num_clusters, num_features, \n",
    "                       figsize=(20, 10), sharex='col')\n",
    "\n",
    "# initialise 1st row. Representing cluster\n",
    "row = 0\n",
    "for cluster in np.sort(df_saved['cluster'].unique()):\n",
    "#     filter cluster dataframe and reset column to 0 for 1st plot for the cluster\n",
    "    df_cluster = df_saved[df_saved['cluster'] == cluster]\n",
    "    col = 0\n",
    "    \n",
    "    for feature in cluster_features:\n",
    "#         create binned count for all recent df and clustered df\n",
    "        rec_grp = df_saved.groupby(pd.cut(df_saved[feature], bins)).size().reset_index(name='count')\n",
    "        cluster_grp = df_cluster.groupby(pd.cut(df_cluster[feature], bins)).size().reset_index(name='count')\n",
    "        \n",
    "#         plot overall distribution and cluster distribution on the ax\n",
    "        sns.barplot(data=rec_grp, x=feature, y='count', \n",
    "                    color='grey', ax=axes[row, col])\n",
    "        sns.barplot(data=cluster_grp, x=feature, y='count', \n",
    "                    color='red', ax=axes[row, col])\n",
    "        \n",
    "#         configure ax\n",
    "        axes[row, col].set_xlabel('')\n",
    "        axes[row, col].set_xticklabels(range(1,10), fontsize=12)\n",
    "        if col > 0:\n",
    "            axes[row, col].set_ylabel('')\n",
    "        else:\n",
    "            axes[row, col].set_ylabel('count', fontsize=12)\n",
    "        if row == 0:\n",
    "            axes[row, col].set_title(feature, fontsize=14)        \n",
    "        col += 1\n",
    "    row += 1\n",
    "    \n",
    "f.suptitle('Profile for each clusters')\n",
    "    \n",
    "plt.show()"
   ]
  },
  {
   "cell_type": "code",
   "execution_count": null,
   "metadata": {},
   "outputs": [],
   "source": [
    "# Average song features per cluster\n",
    "\n",
    "# calculate mean of each variable\n",
    "radar_col = cluster_features + ['cluster']\n",
    "\n",
    "# feature average for each cluster as a radar chart\n",
    "df_radar = df_saved[radar_col]\n",
    "df_radar = df_radar.groupby('cluster').mean().reset_index()\n",
    "df_radar"
   ]
  },
  {
   "cell_type": "code",
   "execution_count": null,
   "metadata": {},
   "outputs": [],
   "source": [
    "# https://python-graph-gallery.com/392-use-faceting-for-radar-chart/\n",
    "def make_radar(row, title, color, dframe, num_clusters):\n",
    "    # number of variable\n",
    "    categories=list(dframe)[1:]\n",
    "    N = len(categories)\n",
    "    \n",
    "    # What will be the angle of each axis in the plot? (we divide the plot / number of variable)\n",
    "    angles = [n / float(N) * 2 * pi for n in range(N)]\n",
    "    angles += angles[:1]\n",
    "    \n",
    "    # Initialise the radar plot\n",
    "    ax = plt.subplot(2,ceil(num_clusters/2),row+1, polar=True, )\n",
    "    \n",
    "    # If you want the first axis to be on top:\n",
    "    ax.set_theta_offset(pi / 2)\n",
    "    ax.set_theta_direction(-1)\n",
    "\n",
    "    # Draw one axe per variable + add labels labels yet\n",
    "    plt.xticks(angles[:-1], categories, color='grey', size=14)\n",
    "\n",
    "    # Draw ylabels\n",
    "    ax.set_rlabel_position(0)\n",
    "    plt.yticks([0.2,0.4,0.6,0.8,1.0,1.2,1.4,1.6], [\"0.2\",\"0.4\",\"0.6\",\"0.8\",\"1.0\",\"1.2\",\"1.4\",\"1.6\"], color=\"grey\", size=8)\n",
    "    plt.ylim(0,1)\n",
    "\n",
    "    # Ind1\n",
    "    values=dframe.loc[row].drop('cluster').values.flatten().tolist()\n",
    "    values += values[:1]\n",
    "    ax.plot(angles, values, color=color, linewidth=2, linestyle='solid')\n",
    "    ax.fill(angles, values, color=color, alpha=0.4)\n",
    "\n",
    "    # Add a title\n",
    "    plt.title(title, size=16, color=color, y=1.06)"
   ]
  },
  {
   "cell_type": "code",
   "execution_count": null,
   "metadata": {},
   "outputs": [],
   "source": [
    "# initialize the figure\n",
    "plt.figure(figsize=(30,15))\n",
    " \n",
    "# Create a color palette:\n",
    "my_palette = plt.cm.get_cmap(\"Set1\", len(df_radar.index))\n",
    "\n",
    "# Create cluster name\n",
    "title_list = ['instrumental', 'lyrical', 'chill vibes', 'dance', 'wind down', 'test1', 'test2', 'test3']\n",
    "\n",
    "# Loop to plot\n",
    "for row in range(0, len(df_radar.index)):\n",
    "    make_radar(row=row, title=str(df_radar['cluster'][row]) + ' : ' + title_list[row], \n",
    "               color=my_palette(row), dframe=df_radar, num_clusters=len(df_radar.index))\n",
    "\n",
    "    \n",
    "# Show plot\n",
    "plt.show()"
   ]
  },
  {
   "cell_type": "code",
   "execution_count": null,
   "metadata": {},
   "outputs": [],
   "source": []
  },
  {
   "cell_type": "code",
   "execution_count": null,
   "metadata": {},
   "outputs": [],
   "source": []
  }
 ],
 "metadata": {
  "kernelspec": {
   "display_name": "Python 3",
   "language": "python",
   "name": "python3"
  },
  "language_info": {
   "codemirror_mode": {
    "name": "ipython",
    "version": 3
   },
   "file_extension": ".py",
   "mimetype": "text/x-python",
   "name": "python",
   "nbconvert_exporter": "python",
   "pygments_lexer": "ipython3",
   "version": "3.7.3"
  }
 },
 "nbformat": 4,
 "nbformat_minor": 2
}
